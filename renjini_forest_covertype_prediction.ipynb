{
 "cells": [
  {
   "cell_type": "markdown",
   "metadata": {},
   "source": [
    "## Project Title: Prediction of Forest Cover Type\n",
    "\n",
    "### Author - Renjini Ramadasan Nair\n"
   ]
  },
  {
   "cell_type": "markdown",
   "metadata": {},
   "source": [
    "## Introduction\n",
    "\n",
    "Source of the data: The UCI machine learning repository (url: https://archive.ics.uci.edu/ml/datasets/Covertype)\n",
    "\n",
    "Original sources: <br>\n",
    "    Original owners of database: \n",
    "\tRemote Sensing and GIS Program, \n",
    "\tDepartment of Forest Sciences, \n",
    "\tCollege of Natural Resources, \n",
    "\tColorado State University, \n",
    "\tFort Collins, CO  80523\n",
    "\t(contact Jock A. Blackard, jblackard 'at' fs.fed.us or Dr. Denis J. Dean, denis.dean 'at' utdallas.edu)"
   ]
  },
  {
   "cell_type": "markdown",
   "metadata": {},
   "source": [
    "The data for forest cover type determination was downloaded from the url (https://archive.ics.uci.edu/ml/machine-learning-databases/covtype/covtype.data.gz). The data was comprised of cartographic variables, derived from data originally obtained from US Geological Survey (USGS) and USFS data. The actual cover type for each observation was determined from US Forest Service (USFS) Region 2 Resource Information System (RIS) data. <br>\n",
    "\n",
    "There were 581012 rows and 55 columns. The columns represented the the following attributes: \n",
    "    Elevation (meters), \n",
    "    Aspect (azimuth), \n",
    "    Slope (degrees), \n",
    "    Horizontal_Distance_To_Hydrology (meters), \n",
    "    Vertical_Distance_To_Hydrology (meters), \n",
    "    Horizontal_Distance_To_Roadways (meters), \n",
    "    Hillshade_9am (0 to 255 index), \n",
    "    Hillshade_Noon (0 to 255 index), \n",
    "    Hillshade_3pm (0 to 255 index), \n",
    "    Horizontal_Distance_To_Fire_Points (meters), \n",
    "    Wilderness_Area (4 binary columns), \n",
    "    Soil_Type (40 binary columns), \n",
    "    Cover_Type (7 types).\n",
    "\n",
    "The final task is to build a predictive machine learning model that can reliably predict the forest cover type from the provided cartographic variables. For optimizing the classifier model, the attribute 'Cover_Type', represents the muticlass forest cover type classification. The summary of the observations, resulting from the statistical data analyses and the predicitve modeling, is provided at the bottom of the notebook. "
   ]
  },
  {
   "cell_type": "code",
   "execution_count": 1,
   "metadata": {},
   "outputs": [],
   "source": [
    "# Load necessary libraries\n",
    "import requests\n",
    "import gzip\n",
    "import pandas as pd\n",
    "import numpy as np\n",
    "import seaborn as sb\n",
    "import scipy.stats as ss\n",
    "from sklearn.linear_model import LogisticRegression\n",
    "from sklearn.ensemble import RandomForestClassifier\n",
    "from sklearn.tree import DecisionTreeClassifier\n",
    "from sklearn.model_selection import train_test_split\n",
    "from sklearn.metrics import *\n",
    "import matplotlib.pyplot as plt\n",
    "%matplotlib inline"
   ]
  },
  {
   "cell_type": "code",
   "execution_count": 2,
   "metadata": {},
   "outputs": [],
   "source": [
    "# Function to bin numerical columns\n",
    "def bins(x, n): \n",
    "    BinWidth = (max(x) - min(x))/n\n",
    "    bound1 = float('-inf')\n",
    "    bound2 = min(x) + 1 * BinWidth\n",
    "    bound3 = min(x) + 2 * BinWidth\n",
    "    bound4 = float('inf')\n",
    "    Binned = np.array([\" \"]*len(x)) \n",
    "    Binned[(bound1 < x) & (x <= bound2)] = 1 # Low\n",
    "    Binned[(bound2 < x) & (x <= bound3)] = 2 # Med\n",
    "    Binned[(bound3 < x) & (x  < bound4)] = 3 # High\n",
    "    return Binned"
   ]
  },
  {
   "cell_type": "code",
   "execution_count": 3,
   "metadata": {},
   "outputs": [],
   "source": [
    "# Location of dataset\n",
    "url = \"https://archive.ics.uci.edu/ml/machine-learning-databases/covtype/covtype.data.gz\""
   ]
  },
  {
   "cell_type": "code",
   "execution_count": 4,
   "metadata": {},
   "outputs": [],
   "source": [
    "# Gather the data\n",
    "response = requests.get(url, stream = True)\n",
    "decompressed_file = gzip.GzipFile(fileobj=response.raw)"
   ]
  },
  {
   "cell_type": "code",
   "execution_count": 5,
   "metadata": {},
   "outputs": [],
   "source": [
    "# Load the data into a dataframe (takes a minute to load)\n",
    "df1 = pd.read_csv(decompressed_file, sep=',', header = None)"
   ]
  },
  {
   "cell_type": "code",
   "execution_count": 6,
   "metadata": {},
   "outputs": [],
   "source": [
    "# Add column names\n",
    "df1.columns = ['elevation', 'aspect', 'slope', 'hdist_to_hydro', 'vdist_to_hydro', 'hdist_to_road', 'hillshade_9am', 'hillshade_noon', 'hillshade_3pm', 'hdist_to_fire', 'rawa', 'neota', 'comanche', 'cache', 1, 2, 3, 4, 5, 6, 7, 8, 9, 10, 11, 12, 13, 14, 15, 16, 17, 18, 19, 20, 21, 22, 23, 24, 25, 26, 27, 28, 29, 30, 31, 32, 33, 34, 35, 36, 37, 38, 39, 40, 'cover_type']"
   ]
  },
  {
   "cell_type": "code",
   "execution_count": 7,
   "metadata": {},
   "outputs": [],
   "source": [
    "df = df1.copy()"
   ]
  },
  {
   "cell_type": "markdown",
   "metadata": {},
   "source": [
    "## Exploratory Data Analyses"
   ]
  },
  {
   "cell_type": "code",
   "execution_count": 8,
   "metadata": {},
   "outputs": [
    {
     "data": {
      "text/html": [
       "<div>\n",
       "<style scoped>\n",
       "    .dataframe tbody tr th:only-of-type {\n",
       "        vertical-align: middle;\n",
       "    }\n",
       "\n",
       "    .dataframe tbody tr th {\n",
       "        vertical-align: top;\n",
       "    }\n",
       "\n",
       "    .dataframe thead th {\n",
       "        text-align: right;\n",
       "    }\n",
       "</style>\n",
       "<table border=\"1\" class=\"dataframe\">\n",
       "  <thead>\n",
       "    <tr style=\"text-align: right;\">\n",
       "      <th></th>\n",
       "      <th>elevation</th>\n",
       "      <th>aspect</th>\n",
       "      <th>slope</th>\n",
       "      <th>hdist_to_hydro</th>\n",
       "      <th>vdist_to_hydro</th>\n",
       "      <th>hdist_to_road</th>\n",
       "      <th>hillshade_9am</th>\n",
       "      <th>hillshade_noon</th>\n",
       "      <th>hillshade_3pm</th>\n",
       "      <th>hdist_to_fire</th>\n",
       "      <th>...</th>\n",
       "      <th>32</th>\n",
       "      <th>33</th>\n",
       "      <th>34</th>\n",
       "      <th>35</th>\n",
       "      <th>36</th>\n",
       "      <th>37</th>\n",
       "      <th>38</th>\n",
       "      <th>39</th>\n",
       "      <th>40</th>\n",
       "      <th>cover_type</th>\n",
       "    </tr>\n",
       "  </thead>\n",
       "  <tbody>\n",
       "    <tr>\n",
       "      <th>0</th>\n",
       "      <td>2596</td>\n",
       "      <td>51</td>\n",
       "      <td>3</td>\n",
       "      <td>258</td>\n",
       "      <td>0</td>\n",
       "      <td>510</td>\n",
       "      <td>221</td>\n",
       "      <td>232</td>\n",
       "      <td>148</td>\n",
       "      <td>6279</td>\n",
       "      <td>...</td>\n",
       "      <td>0</td>\n",
       "      <td>0</td>\n",
       "      <td>0</td>\n",
       "      <td>0</td>\n",
       "      <td>0</td>\n",
       "      <td>0</td>\n",
       "      <td>0</td>\n",
       "      <td>0</td>\n",
       "      <td>0</td>\n",
       "      <td>5</td>\n",
       "    </tr>\n",
       "    <tr>\n",
       "      <th>1</th>\n",
       "      <td>2590</td>\n",
       "      <td>56</td>\n",
       "      <td>2</td>\n",
       "      <td>212</td>\n",
       "      <td>-6</td>\n",
       "      <td>390</td>\n",
       "      <td>220</td>\n",
       "      <td>235</td>\n",
       "      <td>151</td>\n",
       "      <td>6225</td>\n",
       "      <td>...</td>\n",
       "      <td>0</td>\n",
       "      <td>0</td>\n",
       "      <td>0</td>\n",
       "      <td>0</td>\n",
       "      <td>0</td>\n",
       "      <td>0</td>\n",
       "      <td>0</td>\n",
       "      <td>0</td>\n",
       "      <td>0</td>\n",
       "      <td>5</td>\n",
       "    </tr>\n",
       "    <tr>\n",
       "      <th>2</th>\n",
       "      <td>2804</td>\n",
       "      <td>139</td>\n",
       "      <td>9</td>\n",
       "      <td>268</td>\n",
       "      <td>65</td>\n",
       "      <td>3180</td>\n",
       "      <td>234</td>\n",
       "      <td>238</td>\n",
       "      <td>135</td>\n",
       "      <td>6121</td>\n",
       "      <td>...</td>\n",
       "      <td>0</td>\n",
       "      <td>0</td>\n",
       "      <td>0</td>\n",
       "      <td>0</td>\n",
       "      <td>0</td>\n",
       "      <td>0</td>\n",
       "      <td>0</td>\n",
       "      <td>0</td>\n",
       "      <td>0</td>\n",
       "      <td>2</td>\n",
       "    </tr>\n",
       "    <tr>\n",
       "      <th>3</th>\n",
       "      <td>2785</td>\n",
       "      <td>155</td>\n",
       "      <td>18</td>\n",
       "      <td>242</td>\n",
       "      <td>118</td>\n",
       "      <td>3090</td>\n",
       "      <td>238</td>\n",
       "      <td>238</td>\n",
       "      <td>122</td>\n",
       "      <td>6211</td>\n",
       "      <td>...</td>\n",
       "      <td>0</td>\n",
       "      <td>0</td>\n",
       "      <td>0</td>\n",
       "      <td>0</td>\n",
       "      <td>0</td>\n",
       "      <td>0</td>\n",
       "      <td>0</td>\n",
       "      <td>0</td>\n",
       "      <td>0</td>\n",
       "      <td>2</td>\n",
       "    </tr>\n",
       "    <tr>\n",
       "      <th>4</th>\n",
       "      <td>2595</td>\n",
       "      <td>45</td>\n",
       "      <td>2</td>\n",
       "      <td>153</td>\n",
       "      <td>-1</td>\n",
       "      <td>391</td>\n",
       "      <td>220</td>\n",
       "      <td>234</td>\n",
       "      <td>150</td>\n",
       "      <td>6172</td>\n",
       "      <td>...</td>\n",
       "      <td>0</td>\n",
       "      <td>0</td>\n",
       "      <td>0</td>\n",
       "      <td>0</td>\n",
       "      <td>0</td>\n",
       "      <td>0</td>\n",
       "      <td>0</td>\n",
       "      <td>0</td>\n",
       "      <td>0</td>\n",
       "      <td>5</td>\n",
       "    </tr>\n",
       "  </tbody>\n",
       "</table>\n",
       "<p>5 rows × 55 columns</p>\n",
       "</div>"
      ],
      "text/plain": [
       "   elevation  aspect  slope  hdist_to_hydro  vdist_to_hydro  hdist_to_road  \\\n",
       "0       2596      51      3             258               0            510   \n",
       "1       2590      56      2             212              -6            390   \n",
       "2       2804     139      9             268              65           3180   \n",
       "3       2785     155     18             242             118           3090   \n",
       "4       2595      45      2             153              -1            391   \n",
       "\n",
       "   hillshade_9am  hillshade_noon  hillshade_3pm  hdist_to_fire     ...      \\\n",
       "0            221             232            148           6279     ...       \n",
       "1            220             235            151           6225     ...       \n",
       "2            234             238            135           6121     ...       \n",
       "3            238             238            122           6211     ...       \n",
       "4            220             234            150           6172     ...       \n",
       "\n",
       "   32  33  34  35  36  37  38  39  40  cover_type  \n",
       "0   0   0   0   0   0   0   0   0   0           5  \n",
       "1   0   0   0   0   0   0   0   0   0           5  \n",
       "2   0   0   0   0   0   0   0   0   0           2  \n",
       "3   0   0   0   0   0   0   0   0   0           2  \n",
       "4   0   0   0   0   0   0   0   0   0           5  \n",
       "\n",
       "[5 rows x 55 columns]"
      ]
     },
     "execution_count": 8,
     "metadata": {},
     "output_type": "execute_result"
    }
   ],
   "source": [
    "# View the first few rows\n",
    "df.head()"
   ]
  },
  {
   "cell_type": "code",
   "execution_count": 9,
   "metadata": {},
   "outputs": [
    {
     "data": {
      "text/html": [
       "<div>\n",
       "<style scoped>\n",
       "    .dataframe tbody tr th:only-of-type {\n",
       "        vertical-align: middle;\n",
       "    }\n",
       "\n",
       "    .dataframe tbody tr th {\n",
       "        vertical-align: top;\n",
       "    }\n",
       "\n",
       "    .dataframe thead th {\n",
       "        text-align: right;\n",
       "    }\n",
       "</style>\n",
       "<table border=\"1\" class=\"dataframe\">\n",
       "  <thead>\n",
       "    <tr style=\"text-align: right;\">\n",
       "      <th></th>\n",
       "      <th>elevation</th>\n",
       "      <th>aspect</th>\n",
       "      <th>slope</th>\n",
       "      <th>hdist_to_hydro</th>\n",
       "      <th>vdist_to_hydro</th>\n",
       "      <th>hdist_to_road</th>\n",
       "      <th>hillshade_9am</th>\n",
       "      <th>hillshade_noon</th>\n",
       "      <th>hillshade_3pm</th>\n",
       "      <th>hdist_to_fire</th>\n",
       "      <th>...</th>\n",
       "      <th>32</th>\n",
       "      <th>33</th>\n",
       "      <th>34</th>\n",
       "      <th>35</th>\n",
       "      <th>36</th>\n",
       "      <th>37</th>\n",
       "      <th>38</th>\n",
       "      <th>39</th>\n",
       "      <th>40</th>\n",
       "      <th>cover_type</th>\n",
       "    </tr>\n",
       "  </thead>\n",
       "  <tbody>\n",
       "    <tr>\n",
       "      <th>count</th>\n",
       "      <td>581012.000000</td>\n",
       "      <td>581012.000000</td>\n",
       "      <td>581012.000000</td>\n",
       "      <td>581012.000000</td>\n",
       "      <td>581012.000000</td>\n",
       "      <td>581012.000000</td>\n",
       "      <td>581012.000000</td>\n",
       "      <td>581012.000000</td>\n",
       "      <td>581012.000000</td>\n",
       "      <td>581012.000000</td>\n",
       "      <td>...</td>\n",
       "      <td>581012.000000</td>\n",
       "      <td>581012.000000</td>\n",
       "      <td>581012.000000</td>\n",
       "      <td>581012.000000</td>\n",
       "      <td>581012.000000</td>\n",
       "      <td>581012.000000</td>\n",
       "      <td>581012.000000</td>\n",
       "      <td>581012.000000</td>\n",
       "      <td>581012.000000</td>\n",
       "      <td>581012.000000</td>\n",
       "    </tr>\n",
       "    <tr>\n",
       "      <th>mean</th>\n",
       "      <td>2959.365301</td>\n",
       "      <td>155.656807</td>\n",
       "      <td>14.103704</td>\n",
       "      <td>269.428217</td>\n",
       "      <td>46.418855</td>\n",
       "      <td>2350.146611</td>\n",
       "      <td>212.146049</td>\n",
       "      <td>223.318716</td>\n",
       "      <td>142.528263</td>\n",
       "      <td>1980.291226</td>\n",
       "      <td>...</td>\n",
       "      <td>0.090392</td>\n",
       "      <td>0.077716</td>\n",
       "      <td>0.002773</td>\n",
       "      <td>0.003255</td>\n",
       "      <td>0.000205</td>\n",
       "      <td>0.000513</td>\n",
       "      <td>0.026803</td>\n",
       "      <td>0.023762</td>\n",
       "      <td>0.015060</td>\n",
       "      <td>2.051471</td>\n",
       "    </tr>\n",
       "    <tr>\n",
       "      <th>std</th>\n",
       "      <td>279.984734</td>\n",
       "      <td>111.913721</td>\n",
       "      <td>7.488242</td>\n",
       "      <td>212.549356</td>\n",
       "      <td>58.295232</td>\n",
       "      <td>1559.254870</td>\n",
       "      <td>26.769889</td>\n",
       "      <td>19.768697</td>\n",
       "      <td>38.274529</td>\n",
       "      <td>1324.195210</td>\n",
       "      <td>...</td>\n",
       "      <td>0.286743</td>\n",
       "      <td>0.267725</td>\n",
       "      <td>0.052584</td>\n",
       "      <td>0.056957</td>\n",
       "      <td>0.014310</td>\n",
       "      <td>0.022641</td>\n",
       "      <td>0.161508</td>\n",
       "      <td>0.152307</td>\n",
       "      <td>0.121791</td>\n",
       "      <td>1.396504</td>\n",
       "    </tr>\n",
       "    <tr>\n",
       "      <th>min</th>\n",
       "      <td>1859.000000</td>\n",
       "      <td>0.000000</td>\n",
       "      <td>0.000000</td>\n",
       "      <td>0.000000</td>\n",
       "      <td>-173.000000</td>\n",
       "      <td>0.000000</td>\n",
       "      <td>0.000000</td>\n",
       "      <td>0.000000</td>\n",
       "      <td>0.000000</td>\n",
       "      <td>0.000000</td>\n",
       "      <td>...</td>\n",
       "      <td>0.000000</td>\n",
       "      <td>0.000000</td>\n",
       "      <td>0.000000</td>\n",
       "      <td>0.000000</td>\n",
       "      <td>0.000000</td>\n",
       "      <td>0.000000</td>\n",
       "      <td>0.000000</td>\n",
       "      <td>0.000000</td>\n",
       "      <td>0.000000</td>\n",
       "      <td>1.000000</td>\n",
       "    </tr>\n",
       "    <tr>\n",
       "      <th>25%</th>\n",
       "      <td>2809.000000</td>\n",
       "      <td>58.000000</td>\n",
       "      <td>9.000000</td>\n",
       "      <td>108.000000</td>\n",
       "      <td>7.000000</td>\n",
       "      <td>1106.000000</td>\n",
       "      <td>198.000000</td>\n",
       "      <td>213.000000</td>\n",
       "      <td>119.000000</td>\n",
       "      <td>1024.000000</td>\n",
       "      <td>...</td>\n",
       "      <td>0.000000</td>\n",
       "      <td>0.000000</td>\n",
       "      <td>0.000000</td>\n",
       "      <td>0.000000</td>\n",
       "      <td>0.000000</td>\n",
       "      <td>0.000000</td>\n",
       "      <td>0.000000</td>\n",
       "      <td>0.000000</td>\n",
       "      <td>0.000000</td>\n",
       "      <td>1.000000</td>\n",
       "    </tr>\n",
       "    <tr>\n",
       "      <th>50%</th>\n",
       "      <td>2996.000000</td>\n",
       "      <td>127.000000</td>\n",
       "      <td>13.000000</td>\n",
       "      <td>218.000000</td>\n",
       "      <td>30.000000</td>\n",
       "      <td>1997.000000</td>\n",
       "      <td>218.000000</td>\n",
       "      <td>226.000000</td>\n",
       "      <td>143.000000</td>\n",
       "      <td>1710.000000</td>\n",
       "      <td>...</td>\n",
       "      <td>0.000000</td>\n",
       "      <td>0.000000</td>\n",
       "      <td>0.000000</td>\n",
       "      <td>0.000000</td>\n",
       "      <td>0.000000</td>\n",
       "      <td>0.000000</td>\n",
       "      <td>0.000000</td>\n",
       "      <td>0.000000</td>\n",
       "      <td>0.000000</td>\n",
       "      <td>2.000000</td>\n",
       "    </tr>\n",
       "    <tr>\n",
       "      <th>75%</th>\n",
       "      <td>3163.000000</td>\n",
       "      <td>260.000000</td>\n",
       "      <td>18.000000</td>\n",
       "      <td>384.000000</td>\n",
       "      <td>69.000000</td>\n",
       "      <td>3328.000000</td>\n",
       "      <td>231.000000</td>\n",
       "      <td>237.000000</td>\n",
       "      <td>168.000000</td>\n",
       "      <td>2550.000000</td>\n",
       "      <td>...</td>\n",
       "      <td>0.000000</td>\n",
       "      <td>0.000000</td>\n",
       "      <td>0.000000</td>\n",
       "      <td>0.000000</td>\n",
       "      <td>0.000000</td>\n",
       "      <td>0.000000</td>\n",
       "      <td>0.000000</td>\n",
       "      <td>0.000000</td>\n",
       "      <td>0.000000</td>\n",
       "      <td>2.000000</td>\n",
       "    </tr>\n",
       "    <tr>\n",
       "      <th>max</th>\n",
       "      <td>3858.000000</td>\n",
       "      <td>360.000000</td>\n",
       "      <td>66.000000</td>\n",
       "      <td>1397.000000</td>\n",
       "      <td>601.000000</td>\n",
       "      <td>7117.000000</td>\n",
       "      <td>254.000000</td>\n",
       "      <td>254.000000</td>\n",
       "      <td>254.000000</td>\n",
       "      <td>7173.000000</td>\n",
       "      <td>...</td>\n",
       "      <td>1.000000</td>\n",
       "      <td>1.000000</td>\n",
       "      <td>1.000000</td>\n",
       "      <td>1.000000</td>\n",
       "      <td>1.000000</td>\n",
       "      <td>1.000000</td>\n",
       "      <td>1.000000</td>\n",
       "      <td>1.000000</td>\n",
       "      <td>1.000000</td>\n",
       "      <td>7.000000</td>\n",
       "    </tr>\n",
       "  </tbody>\n",
       "</table>\n",
       "<p>8 rows × 55 columns</p>\n",
       "</div>"
      ],
      "text/plain": [
       "           elevation         aspect          slope  hdist_to_hydro  \\\n",
       "count  581012.000000  581012.000000  581012.000000   581012.000000   \n",
       "mean     2959.365301     155.656807      14.103704      269.428217   \n",
       "std       279.984734     111.913721       7.488242      212.549356   \n",
       "min      1859.000000       0.000000       0.000000        0.000000   \n",
       "25%      2809.000000      58.000000       9.000000      108.000000   \n",
       "50%      2996.000000     127.000000      13.000000      218.000000   \n",
       "75%      3163.000000     260.000000      18.000000      384.000000   \n",
       "max      3858.000000     360.000000      66.000000     1397.000000   \n",
       "\n",
       "       vdist_to_hydro  hdist_to_road  hillshade_9am  hillshade_noon  \\\n",
       "count   581012.000000  581012.000000  581012.000000   581012.000000   \n",
       "mean        46.418855    2350.146611     212.146049      223.318716   \n",
       "std         58.295232    1559.254870      26.769889       19.768697   \n",
       "min       -173.000000       0.000000       0.000000        0.000000   \n",
       "25%          7.000000    1106.000000     198.000000      213.000000   \n",
       "50%         30.000000    1997.000000     218.000000      226.000000   \n",
       "75%         69.000000    3328.000000     231.000000      237.000000   \n",
       "max        601.000000    7117.000000     254.000000      254.000000   \n",
       "\n",
       "       hillshade_3pm  hdist_to_fire      ...                   32  \\\n",
       "count  581012.000000  581012.000000      ...        581012.000000   \n",
       "mean      142.528263    1980.291226      ...             0.090392   \n",
       "std        38.274529    1324.195210      ...             0.286743   \n",
       "min         0.000000       0.000000      ...             0.000000   \n",
       "25%       119.000000    1024.000000      ...             0.000000   \n",
       "50%       143.000000    1710.000000      ...             0.000000   \n",
       "75%       168.000000    2550.000000      ...             0.000000   \n",
       "max       254.000000    7173.000000      ...             1.000000   \n",
       "\n",
       "                  33             34             35             36  \\\n",
       "count  581012.000000  581012.000000  581012.000000  581012.000000   \n",
       "mean        0.077716       0.002773       0.003255       0.000205   \n",
       "std         0.267725       0.052584       0.056957       0.014310   \n",
       "min         0.000000       0.000000       0.000000       0.000000   \n",
       "25%         0.000000       0.000000       0.000000       0.000000   \n",
       "50%         0.000000       0.000000       0.000000       0.000000   \n",
       "75%         0.000000       0.000000       0.000000       0.000000   \n",
       "max         1.000000       1.000000       1.000000       1.000000   \n",
       "\n",
       "                  37             38             39             40  \\\n",
       "count  581012.000000  581012.000000  581012.000000  581012.000000   \n",
       "mean        0.000513       0.026803       0.023762       0.015060   \n",
       "std         0.022641       0.161508       0.152307       0.121791   \n",
       "min         0.000000       0.000000       0.000000       0.000000   \n",
       "25%         0.000000       0.000000       0.000000       0.000000   \n",
       "50%         0.000000       0.000000       0.000000       0.000000   \n",
       "75%         0.000000       0.000000       0.000000       0.000000   \n",
       "max         1.000000       1.000000       1.000000       1.000000   \n",
       "\n",
       "          cover_type  \n",
       "count  581012.000000  \n",
       "mean        2.051471  \n",
       "std         1.396504  \n",
       "min         1.000000  \n",
       "25%         1.000000  \n",
       "50%         2.000000  \n",
       "75%         2.000000  \n",
       "max         7.000000  \n",
       "\n",
       "[8 rows x 55 columns]"
      ]
     },
     "execution_count": 9,
     "metadata": {},
     "output_type": "execute_result"
    }
   ],
   "source": [
    "df.describe()"
   ]
  },
  {
   "cell_type": "markdown",
   "metadata": {},
   "source": [
    "The summary statistics indicated that some attributes followed a more or less normal distribution like the 'elevation' and 'hillshade at 3pm', while some others followed skewed distributions like 'horizontal distance to hydrology' and 'horizontal distance to roadways'. These were confirmed by plotting histograms and q-q plots. "
   ]
  },
  {
   "cell_type": "code",
   "execution_count": 10,
   "metadata": {},
   "outputs": [
    {
     "data": {
      "image/png": "[encoded data removed]",
      "text/plain": [
       "<Figure size 432x432 with 1 Axes>"
      ]
     },
     "metadata": {
      "needs_background": "light"
     },
     "output_type": "display_data"
    }
   ],
   "source": [
    "# Plot a histogram of the elevation\n",
    "ax = plt.figure(figsize = (6, 6)).gca()\n",
    "plt.hist(data = df, x = 'elevation')\n",
    "ax.set_title('A plot of Elevation') # Give the plot a main title\n",
    "ax.set_ylabel('Count')# Set text for y axis\n",
    "ax.set_xlabel('Elevation');"
   ]
  },
  {
   "cell_type": "code",
   "execution_count": 11,
   "metadata": {},
   "outputs": [
    {
     "data": {
      "image/png": "[encoded data removed]",
      "text/plain": [
       "<Figure size 432x288 with 1 Axes>"
      ]
     },
     "metadata": {
      "needs_background": "light"
     },
     "output_type": "display_data"
    }
   ],
   "source": [
    "# Check whether elevation follows a normal distribution by q-q plot\n",
    "ss.probplot(df['elevation'], plot = plt);"
   ]
  },
  {
   "cell_type": "code",
   "execution_count": 12,
   "metadata": {},
   "outputs": [
    {
     "data": {
      "image/png": "[encoded data removed]",
      "text/plain": [
       "<Figure size 432x432 with 1 Axes>"
      ]
     },
     "metadata": {
      "needs_background": "light"
     },
     "output_type": "display_data"
    }
   ],
   "source": [
    "# Plot a histogram of hillshade at 3pm\n",
    "ax = plt.figure(figsize = (6, 6)).gca()\n",
    "plt.hist(data = df, x = 'hillshade_3pm')\n",
    "ax.set_title('A plot of hillshade at 3pm') # Give the plot a main title\n",
    "ax.set_ylabel('Count')# Set text for y axis\n",
    "ax.set_xlabel('Hillshade at 3pm');"
   ]
  },
  {
   "cell_type": "code",
   "execution_count": 13,
   "metadata": {},
   "outputs": [
    {
     "data": {
      "image/png": "[encoded data removed]",
      "text/plain": [
       "<Figure size 432x288 with 1 Axes>"
      ]
     },
     "metadata": {
      "needs_background": "light"
     },
     "output_type": "display_data"
    }
   ],
   "source": [
    "# Check whether hillshade at 3pm follows a normal distribution by q-q plot\n",
    "ss.probplot(df['hillshade_3pm'], plot = plt);"
   ]
  },
  {
   "cell_type": "code",
   "execution_count": 14,
   "metadata": {},
   "outputs": [
    {
     "data": {
      "image/png": "[encoded data removed]",
      "text/plain": [
       "<Figure size 432x432 with 1 Axes>"
      ]
     },
     "metadata": {
      "needs_background": "light"
     },
     "output_type": "display_data"
    }
   ],
   "source": [
    "# Plot a histogram of hdist_to_hydro\n",
    "ax = plt.figure(figsize = (6, 6)).gca()\n",
    "plt.hist(data = df, x = 'hdist_to_hydro')\n",
    "ax.set_title('A plot of Horizontal distance to hydrology') # Give the plot a main title\n",
    "ax.set_ylabel('Count')# Set text for y axis\n",
    "ax.set_xlabel('Horizontal distance to hydrology');"
   ]
  },
  {
   "cell_type": "code",
   "execution_count": 15,
   "metadata": {},
   "outputs": [
    {
     "data": {
      "image/png": "[encoded data removed]",
      "text/plain": [
       "<Figure size 432x432 with 1 Axes>"
      ]
     },
     "metadata": {
      "needs_background": "light"
     },
     "output_type": "display_data"
    }
   ],
   "source": [
    "# Plot a histogram of hdist_to_road\n",
    "ax = plt.figure(figsize = (6, 6)).gca()\n",
    "plt.hist(data = df, x = 'hdist_to_road')\n",
    "ax.set_title('A plot of Horizontal distance to Roadways') # Give the plot a main title\n",
    "ax.set_ylabel('Count')# Set text for y axis\n",
    "ax.set_xlabel('Horizontal distance to Roadways');"
   ]
  },
  {
   "cell_type": "code",
   "execution_count": 16,
   "metadata": {},
   "outputs": [
    {
     "data": {
      "image/png": "[encoded data removed]",
      "text/plain": [
       "<Figure size 432x288 with 1 Axes>"
      ]
     },
     "metadata": {
      "needs_background": "light"
     },
     "output_type": "display_data"
    }
   ],
   "source": [
    "# Distribution of cover types\n",
    "ax = sb.countplot(data = df, x = 'cover_type')\n",
    "ax.set_title('Distribution of cover type') # Give the plot a main title\n",
    "ax.set_ylabel('Counts')# Set text for y axis\n",
    "ax.set_xlabel('cover type');"
   ]
  },
  {
   "cell_type": "code",
   "execution_count": 17,
   "metadata": {},
   "outputs": [
    {
     "data": {
      "image/png": "[encoded data removed]",
      "text/plain": [
       "<Figure size 720x432 with 1 Axes>"
      ]
     },
     "metadata": {
      "needs_background": "light"
     },
     "output_type": "display_data"
    }
   ],
   "source": [
    "# Plot the elevation by cover type\n",
    "ax = plt.figure(figsize = (10, 6)).gca()\n",
    "sb.boxplot(data = df, x = 'cover_type', y = 'elevation', ax = ax)\n",
    "ax.set_title('elevation by cover type') # Give the plot a main title\n",
    "ax.set_ylabel('elevation')# Set text for y axis\n",
    "ax.set_xlabel('cover type');"
   ]
  },
  {
   "cell_type": "markdown",
   "metadata": {},
   "source": [
    "The cover types 1 and 2 seem most common, having 200,000 - 300,000 entries, while the rest (3-7) classes were constituted by less than 5000 instances each. Elevation seems to be a good variable at aiding classification of the cover types into groups, with some amount of overlaps between the classes. "
   ]
  },
  {
   "cell_type": "code",
   "execution_count": 18,
   "metadata": {},
   "outputs": [],
   "source": [
    "# Bin some of the numerical columns, hillshade_9am, vdist_to_hydro and hdist_to_road; drop obsolete columns\n",
    "# hillshade_9am - Equal-width Binning using numpy\n",
    "x = np.array(df['hillshade_9am'])\n",
    "df['Binned_hillshade_9am'] = bins(x, 10)\n",
    "df.drop('hillshade_9am', axis = 1, inplace = True)\n",
    "\n",
    "# vdist_to_hydro - Equal-width Binning using numpy\n",
    "x = np.array(df['vdist_to_hydro'])\n",
    "df['Binned_vdist_to_hydro'] = bins(x, 6)\n",
    "df.drop('vdist_to_hydro', axis = 1, inplace = True)\n",
    "\n",
    "# hdist_to_road - Equal-width Binning using numpy\n",
    "x = np.array(df['hdist_to_road'])\n",
    "df['Binned_hdist_to_road'] = bins(x, 6)\n",
    "df.drop('hdist_to_road', axis = 1, inplace = True)"
   ]
  },
  {
   "cell_type": "code",
   "execution_count": 19,
   "metadata": {},
   "outputs": [],
   "source": [
    "# Change the datatype of binned columns to int\n",
    "df['Binned_hillshade_9am'] = df['Binned_hillshade_9am'].astype('int', inplace = True)\n",
    "df['Binned_vdist_to_hydro'] = df['Binned_vdist_to_hydro'].astype('int', inplace = True)\n",
    "df['Binned_hdist_to_road'] = df['Binned_hdist_to_road'].astype('int', inplace = True)"
   ]
  },
  {
   "cell_type": "code",
   "execution_count": 20,
   "metadata": {},
   "outputs": [],
   "source": [
    "# Specify the independent and dependent variables\n",
    "X = df[['elevation', 'aspect', 'slope', 'hdist_to_hydro', 'Binned_vdist_to_hydro', 'Binned_hdist_to_road', 'Binned_hillshade_9am', 'hillshade_noon', 'hillshade_3pm', 'hdist_to_fire', 'rawa', 'neota', 'comanche', 'cache', 1, 2, 3, 4, 5, 6, 7, 8, 9, 10, 11, 12, 13, 14, 15, 16, 17, 18, 19, 20, 21, 22, 23, 24, 25, 26, 27, 28, 29, 30, 31, 32, 33, 34, 35, 36, 37, 38, 39, 40]]\n",
    "Y = df['cover_type']"
   ]
  },
  {
   "cell_type": "code",
   "execution_count": 21,
   "metadata": {},
   "outputs": [],
   "source": [
    "# Specifying model training on 80% of the data, by using a test-size of 20%\n",
    "X_train, X_test, Y_train, Y_test = train_test_split(X, Y, test_size = 0.20)"
   ]
  },
  {
   "cell_type": "code",
   "execution_count": 32,
   "metadata": {},
   "outputs": [
    {
     "data": {
      "text/plain": [
       "array([[29249, 12489,    34,     0,     2,     0,   742],\n",
       "       [ 9924, 45175,  1327,     1,     4,    71,    60],\n",
       "       [    0,   766,  6099,    46,     0,   145,     0],\n",
       "       [    0,     0,   347,   125,     0,    50,     0],\n",
       "       [   28,  1707,   174,     0,     1,     3,     0],\n",
       "       [    2,  1291,  1977,     5,     0,   191,     0],\n",
       "       [ 2045,    35,    12,     0,     0,     0,  2076]])"
      ]
     },
     "execution_count": 32,
     "metadata": {},
     "output_type": "execute_result"
    }
   ],
   "source": [
    "# Classification by Logistic Regression (warning - takes a few minutes)\n",
    "clf = LogisticRegression(solver = 'liblinear')\n",
    "clf.fit(X_train, Y_train)\n",
    "Y_predslr = clf.predict(X_test)\n",
    "# Confusion matrix\n",
    "confusion_matrix(Y_test, Y_predslr)"
   ]
  },
  {
   "cell_type": "code",
   "execution_count": 31,
   "metadata": {},
   "outputs": [
    {
     "data": {
      "image/png": "[encoded data removed]",
      "text/plain": [
       "<Figure size 432x288 with 2 Axes>"
      ]
     },
     "metadata": {
      "needs_background": "light"
     },
     "output_type": "display_data"
    }
   ],
   "source": [
    "sb.heatmap(confusion_matrix(Y_test, Y_predslr));"
   ]
  },
  {
   "cell_type": "code",
   "execution_count": 25,
   "metadata": {},
   "outputs": [
    {
     "data": {
      "text/plain": [
       "array([[38973,  3252,     1,     0,    58,     9,   223],\n",
       "       [ 3150, 52711,   201,     1,   302,   149,    48],\n",
       "       [    2,   197,  6444,    60,    12,   341,     0],\n",
       "       [    0,     2,    70,   438,     0,    12,     0],\n",
       "       [   40,   308,    16,     0,  1542,     7,     0],\n",
       "       [   10,   151,   340,    15,     8,  2942,     0],\n",
       "       [  259,    34,     0,     0,     0,     0,  3875]])"
      ]
     },
     "execution_count": 25,
     "metadata": {},
     "output_type": "execute_result"
    }
   ],
   "source": [
    "# Classification by DecisionTreeClassifier (warning - takes a few minutes)\n",
    "clf = DecisionTreeClassifier()\n",
    "clf.fit(X_train, Y_train)\n",
    "Y_predsdt = clf.predict(X_test)\n",
    "# Confusion matrix\n",
    "confusion_matrix(Y_test, Y_predsdt)"
   ]
  },
  {
   "cell_type": "code",
   "execution_count": 30,
   "metadata": {},
   "outputs": [
    {
     "data": {
      "text/plain": [
       "<matplotlib.axes._subplots.AxesSubplot at 0x7f16627ee828>"
      ]
     },
     "execution_count": 30,
     "metadata": {},
     "output_type": "execute_result"
    },
    {
     "data": {
      "image/png": "[encoded data removed]",
      "text/plain": [
       "<Figure size 432x288 with 2 Axes>"
      ]
     },
     "metadata": {
      "needs_background": "light"
     },
     "output_type": "display_data"
    }
   ],
   "source": [
    "sb.heatmap(confusion_matrix(Y_test, Y_predsdt))"
   ]
  },
  {
   "cell_type": "code",
   "execution_count": 27,
   "metadata": {},
   "outputs": [
    {
     "data": {
      "text/plain": [
       "array([[39244,  3140,     1,     0,    20,     5,   106],\n",
       "       [ 1886, 54347,   116,     1,    95,   103,    14],\n",
       "       [    1,   136,  6685,    33,     3,   198,     0],\n",
       "       [    0,     0,    64,   444,     0,    14,     0],\n",
       "       [   27,   429,    20,     0,  1426,    11,     0],\n",
       "       [    2,   135,   348,    12,     3,  2966,     0],\n",
       "       [  255,    21,     0,     0,     0,     0,  3892]])"
      ]
     },
     "execution_count": 27,
     "metadata": {},
     "output_type": "execute_result"
    }
   ],
   "source": [
    "# Classification by Random forest (warning - takes a few minutes)\n",
    "clf = RandomForestClassifier(n_estimators = 100, min_samples_split = 2)\n",
    "clf.fit(X_train, Y_train)\n",
    "Y_predsrf = clf.predict(X_test)\n",
    "# Confusion matrix\n",
    "confusion_matrix(Y_test, Y_predsrf)"
   ]
  },
  {
   "cell_type": "code",
   "execution_count": 28,
   "metadata": {},
   "outputs": [
    {
     "data": {
      "image/png": "[encoded data removed]",
      "text/plain": [
       "<Figure size 432x288 with 2 Axes>"
      ]
     },
     "metadata": {
      "needs_background": "light"
     },
     "output_type": "display_data"
    }
   ],
   "source": [
    "sb.heatmap(confusion_matrix(Y_test, Y_predsrf));"
   ]
  },
  {
   "cell_type": "code",
   "execution_count": 29,
   "metadata": {},
   "outputs": [
    {
     "name": "stdout",
     "output_type": "stream",
     "text": [
      "Accuracy score with Logistic regression: 0.7135\n",
      "Accuracy score with Decision Tree: 0.9202\n",
      "Accuracy score with Random forest: 0.9380\n"
     ]
    }
   ],
   "source": [
    "# Metrics analysis - Accuracy\n",
    "ARlr = accuracy_score(Y_test, Y_predslr)\n",
    "ARdt = accuracy_score(Y_test, Y_predsdt)\n",
    "ARrf = accuracy_score(Y_test, Y_predsrf)\n",
    "print(\"Accuracy score with Logistic regression: {:.4f}\".format(ARlr))\n",
    "print(\"Accuracy score with Decision Tree: {:.4f}\".format(ARdt))\n",
    "print(\"Accuracy score with Random forest: {:.4f}\".format(ARrf))"
   ]
  },
  {
   "cell_type": "markdown",
   "metadata": {},
   "source": [
    "## Summary\n",
    "\n",
    "#### Source of the data: \n",
    "The UCI machine learning repository (url: https://archive.ics.uci.edu/ml/datasets/Covertype). <br>\n",
    "Original sources:\n",
    "Original owners of database: Remote Sensing and GIS Program, Department of Forest Sciences, College of Natural Resources, Colorado State University, Fort Collins, CO 80523 (contact Jock A. Blackard, jblackard 'at' fs.fed.us or Dr. Denis J. Dean, denis.dean 'at' utdallas.edu) \n",
    "<br>\n",
    "#### Introduction: \n",
    "The data for forest cover type determination was downloaded from the url (https://archive.ics.uci.edu/ml/machine-learning-databases/covtype/covtype.data.gz). The data was comprised of cartographic variables, derived from data originally obtained from US Geological Survey (USGS) and USFS data. The actual cover type for each observation was determined from US Forest Service (USFS) Region 2 Resource Information System (RIS) data.\n",
    "<br>\n",
    "\n",
    "Initially, there were 581012 rows and 55 columns. The columns represented the the following attributes: Elevation (meters), Aspect (azimuth), Slope (degrees), Horizontal_Distance_To_Hydrology (meters), Vertical_Distance_To_Hydrology (meters), Horizontal_Distance_To_Roadways (meters), Hillshade_9am (0 to 255 index), Hillshade_Noon (0 to 255 index), Hillshade_3pm (0 to 255 index), Horizontal_Distance_To_Fire_Points (meters), Wilderness_Area (4 binary columns), Soil_Type (40 binary columns), Cover_Type (7 types).\n",
    "\n",
    "The task is to build a predictive machine learning model that can reliably predict the forest cover type from the provided cartographic variables. For optimizing the classifier model, the attribute 'Cover_Type', represents the muticlass forest cover type classification.\n",
    "<br>\n",
    "\n",
    "#### Data wrangling and analyses\n",
    "After checking the loaded dataframe, it was seen that there were 55 attributes. Of the 55, 4 were binary columns for the type of wilderness area. 40 columns denoted the binary variables for the soil type attribute.  <br>\n",
    "\n",
    "The summary statistics indicated that some attributes followed a more or less normal distribution like the 'elevation' and 'hillshade at 3pm', while some others followed skewed distributions like 'horizontal distance to hydrology' and 'horizontal distance to roadways'. These were confirmed by plotting histograms and q-q plots. <br>\n",
    "\n",
    "The cover types 1 and 2 seem most common, having 200,000 - 300,000 entries, while the rest (3-7) classes were constituted by less than 5000 instances each. Elevation seems to be a good variable at aiding classification of the cover types into groups, with some amount of overlaps between the classes. <br>\n",
    "\n",
    "The numerical attributes, hillshade_9am, 'vdist_to_hydro' and 'hdist_to_road' were binned by equal width binning, and the obsolete non-binned columns deleted. All 54 attributes were used for modeling. \n",
    "\n",
    "#### Classification by supervised learning\n",
    "The instances were split into training and test (20%) sets and subjected to supervised learning. I used LogisticRegression, DecisionTreeClassifier and RandomForestClassifier from the scikit-learn package to model and predict the multiclasses. Upon analysis of the confusion matrix and metrics, it was seen that the accuracies of the classifiers were 71%, 92% and 94% for the logistic regression, decision tree and random forest classifications. Higher accuracy rates may be attained by more optimization of the hyper-parameters for each of the models (e.g. non-linear solver for logistic regression). "
   ]
  }
 ],
 "metadata": {
  "kernelspec": {
   "display_name": "Python 3",
   "language": "python",
   "name": "python3"
  },
  "language_info": {
   "codemirror_mode": {
    "name": "ipython",
    "version": 3
   },
   "file_extension": ".py",
   "mimetype": "text/x-python",
   "name": "python",
   "nbconvert_exporter": "python",
   "pygments_lexer": "ipython3",
   "version": "3.6.7"
  }
 },
 "nbformat": 4,
 "nbformat_minor": 1
}
